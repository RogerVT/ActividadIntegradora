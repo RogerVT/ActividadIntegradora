{
  "nbformat": 4,
  "nbformat_minor": 0,
  "metadata": {
    "colab": {
      "name": "Untitled0.ipynb",
      "provenance": [],
      "collapsed_sections": []
    },
    "kernelspec": {
      "name": "python3",
      "display_name": "Python 3"
    }
  },
  "cells": [
    {
      "cell_type": "code",
      "metadata": {
        "id": "yK3sae7p-6Ug"
      },
      "source": [
        "import requests \n",
        "from bs4 import BeautifulSoup"
      ],
      "execution_count": null,
      "outputs": []
    },
    {
      "cell_type": "code",
      "metadata": {
        "colab": {
          "base_uri": "https://localhost:8080/"
        },
        "id": "t_odqCdc_CGL",
        "outputId": "98b90157-2a60-4a4f-a444-de2f9c3d72d5"
      },
      "source": [
        "req = requests.get('https://www.worldometers.info/coronavirus/')\n",
        "sp = BeautifulSoup(req.content, 'html.parser')\n",
        "res = sp.find_all('script')\n",
        "print(len(res))"
      ],
      "execution_count": null,
      "outputs": [
        {
          "output_type": "stream",
          "text": [
            "62\n"
          ],
          "name": "stdout"
        }
      ]
    },
    {
      "cell_type": "code",
      "metadata": {
        "id": "g6Znp0TBCm1l"
      },
      "source": [
        "chart_regex = \"((Highcharts.chart\\('coronavirus-cases-daily', {)(.|\\n)*(}\\);))\"\r\n",
        "arr_like_regex = '((\\[)((.)+,)*((.)+)(\\]))'\r\n",
        "categories_regex = '((categories: \\[)(\"(\\w|\\s)+\",)*(\"(\\w|\\s)+\")(\\]))'\r\n",
        "data_regex = '((data: \\[)((\\w|\\s)+,)*((\\w|\\s)+)(\\]))'"
      ],
      "execution_count": null,
      "outputs": []
    },
    {
      "cell_type": "code",
      "metadata": {
        "colab": {
          "base_uri": "https://localhost:8080/"
        },
        "id": "cZQT-3P1D2rL",
        "outputId": "cb3f18f9-e97a-476e-fa4c-947ac5e7c804"
      },
      "source": [
        "import re\r\n",
        "import json\r\n",
        "import numpy as np\r\n",
        "\r\n",
        "for script in res:\r\n",
        "  if len(script.contents) == 0: continue\r\n",
        "  result = re.search(chart_regex, script.contents[0])\r\n",
        "  if result:\r\n",
        "    chart_raw_json = result.group()\r\n",
        "    \r\n",
        "    categories_arr = re.search(categories_regex, chart_raw_json).group()\r\n",
        "    categories_arr = re.search(arr_like_regex, categories_arr).group()\r\n",
        "    \r\n",
        "    data_arr = re.search(data_regex, chart_raw_json).group()\r\n",
        "    data_arr = re.search(arr_like_regex, data_arr).group()\r\n",
        "\r\n",
        "    as_json = f'{{ \"date\": {categories_arr}, \"cases\": {data_arr} }}'\r\n",
        "    as_json = json.loads(as_json)\r\n",
        "\r\n",
        "    break\r\n",
        "\r\n",
        "date = np.array(as_json['date'])[1:]\r\n",
        "cases = np.array(as_json['cases'])[1:]\r\n",
        "date, cases"
      ],
      "execution_count": null,
      "outputs": [
        {
          "output_type": "execute_result",
          "data": {
            "text/plain": [
              "(array(['Jan 23', 'Jan 24', 'Jan 25', 'Jan 26', 'Jan 27', 'Jan 28',\n",
              "        'Jan 29', 'Jan 30', 'Jan 31', 'Feb 01', 'Feb 02', 'Feb 03',\n",
              "        'Feb 04', 'Feb 05', 'Feb 06', 'Feb 07', 'Feb 08', 'Feb 09',\n",
              "        'Feb 10', 'Feb 11', 'Feb 12', 'Feb 13', 'Feb 14', 'Feb 15',\n",
              "        'Feb 16', 'Feb 17', 'Feb 18', 'Feb 19', 'Feb 20', 'Feb 21',\n",
              "        'Feb 22', 'Feb 23', 'Feb 24', 'Feb 25', 'Feb 26', 'Feb 27',\n",
              "        'Feb 28', 'Feb 29', 'Mar 01', 'Mar 02', 'Mar 03', 'Mar 04',\n",
              "        'Mar 05', 'Mar 06', 'Mar 07', 'Mar 08', 'Mar 09', 'Mar 10',\n",
              "        'Mar 11', 'Mar 12', 'Mar 13', 'Mar 14', 'Mar 15', 'Mar 16',\n",
              "        'Mar 17', 'Mar 18', 'Mar 19', 'Mar 20', 'Mar 21', 'Mar 22',\n",
              "        'Mar 23', 'Mar 24', 'Mar 25', 'Mar 26', 'Mar 27', 'Mar 28',\n",
              "        'Mar 29', 'Mar 30', 'Mar 31', 'Apr 01', 'Apr 02', 'Apr 03',\n",
              "        'Apr 04', 'Apr 05', 'Apr 06', 'Apr 07', 'Apr 08', 'Apr 09',\n",
              "        'Apr 10', 'Apr 11', 'Apr 12', 'Apr 13', 'Apr 14', 'Apr 15',\n",
              "        'Apr 16', 'Apr 17', 'Apr 18', 'Apr 19', 'Apr 20', 'Apr 21',\n",
              "        'Apr 22', 'Apr 23', 'Apr 24', 'Apr 25', 'Apr 26', 'Apr 27',\n",
              "        'Apr 28', 'Apr 29', 'Apr 30', 'May 01', 'May 02', 'May 03',\n",
              "        'May 04', 'May 05', 'May 06', 'May 07', 'May 08', 'May 09',\n",
              "        'May 10', 'May 11', 'May 12', 'May 13', 'May 14', 'May 15',\n",
              "        'May 16', 'May 17', 'May 18', 'May 19', 'May 20', 'May 21',\n",
              "        'May 22', 'May 23', 'May 24', 'May 25', 'May 26', 'May 27',\n",
              "        'May 28', 'May 29', 'May 30', 'May 31', 'Jun 01', 'Jun 02',\n",
              "        'Jun 03', 'Jun 04', 'Jun 05', 'Jun 06', 'Jun 07', 'Jun 08',\n",
              "        'Jun 09', 'Jun 10', 'Jun 11', 'Jun 12', 'Jun 13', 'Jun 14',\n",
              "        'Jun 15', 'Jun 16', 'Jun 17', 'Jun 18', 'Jun 19', 'Jun 20',\n",
              "        'Jun 21', 'Jun 22', 'Jun 23', 'Jun 24', 'Jun 25', 'Jun 26',\n",
              "        'Jun 27', 'Jun 28', 'Jun 29', 'Jun 30', 'Jul 01', 'Jul 02',\n",
              "        'Jul 03', 'Jul 04', 'Jul 05', 'Jul 06', 'Jul 07', 'Jul 08',\n",
              "        'Jul 09', 'Jul 10', 'Jul 11', 'Jul 12', 'Jul 13', 'Jul 14',\n",
              "        'Jul 15', 'Jul 16', 'Jul 17', 'Jul 18', 'Jul 19', 'Jul 20',\n",
              "        'Jul 21', 'Jul 22', 'Jul 23', 'Jul 24', 'Jul 25', 'Jul 26',\n",
              "        'Jul 27', 'Jul 28', 'Jul 29', 'Jul 30', 'Jul 31', 'Aug 01',\n",
              "        'Aug 02', 'Aug 03', 'Aug 04', 'Aug 05', 'Aug 06', 'Aug 07',\n",
              "        'Aug 08', 'Aug 09', 'Aug 10', 'Aug 11', 'Aug 12', 'Aug 13',\n",
              "        'Aug 14', 'Aug 15', 'Aug 16', 'Aug 17', 'Aug 18', 'Aug 19',\n",
              "        'Aug 20', 'Aug 21', 'Aug 22', 'Aug 23', 'Aug 24', 'Aug 25',\n",
              "        'Aug 26', 'Aug 27', 'Aug 28', 'Aug 29', 'Aug 30', 'Aug 31',\n",
              "        'Sep 01', 'Sep 02', 'Sep 03', 'Sep 04', 'Sep 05', 'Sep 06',\n",
              "        'Sep 07', 'Sep 08', 'Sep 09', 'Sep 10', 'Sep 11', 'Sep 12',\n",
              "        'Sep 13', 'Sep 14', 'Sep 15', 'Sep 16', 'Sep 17', 'Sep 18',\n",
              "        'Sep 19', 'Sep 20', 'Sep 21', 'Sep 22', 'Sep 23', 'Sep 24',\n",
              "        'Sep 25', 'Sep 26', 'Sep 27', 'Sep 28', 'Sep 29', 'Sep 30',\n",
              "        'Oct 01', 'Oct 02', 'Oct 03', 'Oct 04', 'Oct 05', 'Oct 06',\n",
              "        'Oct 07', 'Oct 08', 'Oct 09', 'Oct 10', 'Oct 11', 'Oct 12',\n",
              "        'Oct 13', 'Oct 14', 'Oct 15', 'Oct 16', 'Oct 17', 'Oct 18',\n",
              "        'Oct 19', 'Oct 20', 'Oct 21', 'Oct 22', 'Oct 23', 'Oct 24',\n",
              "        'Oct 25', 'Oct 26', 'Oct 27', 'Oct 28', 'Oct 29', 'Oct 30',\n",
              "        'Oct 31', 'Nov 01', 'Nov 02', 'Nov 03', 'Nov 04', 'Nov 05',\n",
              "        'Nov 06', 'Nov 07', 'Nov 08', 'Nov 09', 'Nov 10', 'Nov 11',\n",
              "        'Nov 12', 'Nov 13', 'Nov 14', 'Nov 15', 'Nov 16', 'Nov 17',\n",
              "        'Nov 18', 'Nov 19', 'Nov 20', 'Nov 21', 'Nov 22', 'Nov 23',\n",
              "        'Nov 24', 'Nov 25', 'Nov 26', 'Nov 27', 'Nov 28', 'Nov 29',\n",
              "        'Nov 30', 'Dec 01', 'Dec 02', 'Dec 03', 'Dec 04', 'Dec 05',\n",
              "        'Dec 06', 'Dec 07', 'Dec 08', 'Dec 09', 'Dec 10', 'Dec 11',\n",
              "        'Dec 12', 'Dec 13', 'Dec 14', 'Dec 15', 'Dec 16', 'Dec 17',\n",
              "        'Dec 18', 'Dec 19', 'Dec 20', 'Dec 21', 'Dec 22', 'Dec 23',\n",
              "        'Dec 24', 'Dec 25', 'Dec 26', 'Dec 27', 'Dec 28', 'Dec 29',\n",
              "        'Dec 30', 'Dec 31', 'Jan 01', 'Jan 02', 'Jan 03', 'Jan 04',\n",
              "        'Jan 05', 'Jan 06', 'Jan 07', 'Jan 08', 'Jan 09', 'Jan 10'],\n",
              "       dtype='<U6'),\n",
              " array([267, 473, 699, 786, 1784, 1478, 1760, 2011, 2130, 2627, 2854, 3253,\n",
              "        3927, 3728, 3184, 3453, 2685, 3003, 2573, 2050, 14179, 5176, 2682,\n",
              "        2132, 2157, 2031, 1880, 534, 1033, 1059, 1037, 629, 994, 864, 1140,\n",
              "        1460, 1824, 2208, 2644, 2628, 3319, 3194, 4314, 5137, 5791, 5938,\n",
              "        7282, 8835, 11384, 13397, 16703, 17303, 19370, 20684, 23024, 27104,\n",
              "        31959, 38774, 33615, 36675, 44586, 45014, 49186, 61770, 66668,\n",
              "        67509, 61213, 65089, 75791, 78793, 81446, 86747, 83871, 74429,\n",
              "        78011, 84311, 89477, 90891, 98462, 86199, 77048, 77110, 80448,\n",
              "        87044, 87797, 89778, 84882, 78827, 82996, 81845, 84218, 86674,\n",
              "        98609, 91585, 74772, 71823, 78258, 81519, 89319, 96285, 83846,\n",
              "        83197, 82613, 83570, 97255, 97229, 97098, 89203, 80980, 74520,\n",
              "        88636, 92024, 99009, 102478, 97260, 83650, 93115, 98057, 105020,\n",
              "        110283, 109709, 102248, 98708, 93487, 95882, 109751, 119557,\n",
              "        129046, 126916, 111311, 104419, 118256, 123024, 133636, 133540,\n",
              "        131332, 116996, 110898, 124089, 138893, 141073, 145669, 138074,\n",
              "        127612, 129463, 147205, 149391, 144143, 185371, 160863, 133829,\n",
              "        143101, 167564, 177995, 184601, 198822, 181291, 167964, 166347,\n",
              "        179229, 202455, 213405, 218143, 199311, 181877, 175676, 212665,\n",
              "        218173, 228202, 241888, 220765, 202313, 200347, 224135, 239874,\n",
              "        253252, 244561, 230295, 225866, 209085, 243940, 284355, 279903,\n",
              "        292919, 265226, 227961, 222224, 252860, 293135, 291288, 295093,\n",
              "        263426, 227152, 204254, 257698, 276919, 288022, 287125, 274671,\n",
              "        229380, 221948, 271684, 293496, 290681, 294052, 268726, 221710,\n",
              "        206609, 262868, 279912, 276335, 267192, 273065, 216043, 221867,\n",
              "        259456, 283131, 282795, 295485, 268401, 231509, 253693, 266657,\n",
              "        291910, 294347, 311300, 282765, 244929, 208325, 252583, 293628,\n",
              "        307878, 322079, 295296, 258408, 253929, 285116, 313485, 318264,\n",
              "        330180, 304712, 262324, 241417, 281123, 321350, 319718, 330418,\n",
              "        308556, 265169, 241232, 293610, 320424, 328247, 332427, 309564,\n",
              "        261082, 275265, 314637, 352891, 360152, 367020, 377821, 294422,\n",
              "        279542, 320850, 388709, 406028, 421850, 397885, 352745, 350082,\n",
              "        391957, 445801, 485227, 498029, 479887, 435445, 418523, 466399,\n",
              "        517593, 550778, 577455, 503222, 471498, 479296, 495321, 574337,\n",
              "        625295, 633205, 632098, 506782, 494775, 561190, 625993, 653148,\n",
              "        669603, 605568, 521567, 513330, 564703, 627145, 660136, 674110,\n",
              "        609399, 529261, 542571, 565291, 643908, 623452, 622618, 592597,\n",
              "        521544, 502467, 585639, 644820, 690896, 696856, 644367, 554798,\n",
              "        535444, 605981, 664124, 700380, 714425, 656086, 555744, 535772,\n",
              "        597334, 726173, 736438, 722550, 634904, 564090, 542509, 614379,\n",
              "        697933, 697093, 535758, 470281, 438101, 499429, 626660, 737385,\n",
              "        760624, 632082, 570523, 528373, 554786, 701294, 807649, 833976,\n",
              "        833495, 731504, 612214], dtype=object))"
            ]
          },
          "metadata": {
            "tags": []
          },
          "execution_count": 15
        }
      ]
    },
    {
      "cell_type": "code",
      "metadata": {
        "id": "C96LqveHHkv_",
        "colab": {
          "base_uri": "https://localhost:8080/"
        },
        "outputId": "4702fb29-99d8-4b2b-b606-0f1319704017"
      },
      "source": [
        "from sklearn import linear_model\n",
        "from sklearn.model_selection import train_test_split\n",
        "from sklearn.metrics import mean_squared_error, r2_score\n",
        "import matplotlib.pyplot as plt\n",
        "\n",
        "\n",
        "date_index = np.arange(0, len(date))\n",
        "\n",
        "# date_index = date_index.reshape(-1, 1)\n",
        "# cases = cases.reshape(-1, 1)\n",
        "d_Train, d_Test, c_Train, c_Test = train_test_split(date_index, cases, test_size = 0.2, shuffle = False)\n",
        "\n",
        "model = linear_model.LinearRegression()\n",
        "model.fit(d_Train.reshape(-1, 1), c_Train.reshape(-1, 1))\n",
        "case_pred = model.predict(d_Test.reshape(-1,1))\n",
        "\n",
        "print('Coef =>', model.coef_)\n",
        "print('MSE =>', mean_squared_error(c_Test, case_pred))\n",
        "print('R2 =>', r2_score(c_Test, case_pred))\n"
      ],
      "execution_count": null,
      "outputs": [
        {
          "output_type": "stream",
          "text": [
            "Coef => [[1526.75869441]]\n",
            "MSE => 37704420648.91954\n",
            "R2 => -3.895170297408792\n"
          ],
          "name": "stdout"
        }
      ]
    },
    {
      "cell_type": "code",
      "metadata": {
        "id": "gaEdlmIYJ_4B"
      },
      "source": [
        "date_res = np.array([date[i] for i in d_Test])"
      ],
      "execution_count": null,
      "outputs": []
    },
    {
      "cell_type": "code",
      "metadata": {
        "id": "7xe8RExQPGQP"
      },
      "source": [
        "date_t = np.array([date[i] for i in d_Train])"
      ],
      "execution_count": null,
      "outputs": []
    },
    {
      "cell_type": "code",
      "metadata": {
        "colab": {
          "base_uri": "https://localhost:8080/",
          "height": 299
        },
        "id": "vNNBzjAoO1-5",
        "outputId": "78a9c839-1a43-4806-f2fc-734c1986bd13"
      },
      "source": [
        "plt.scatter(date_index, cases, color='black')\n",
        "plt.plot(date_index, model.predict(date_index.reshape(-1,1)), color='red', linewidth = 3)\n",
        "plt.xticks()\n",
        "plt.yticks()"
      ],
      "execution_count": null,
      "outputs": [
        {
          "output_type": "execute_result",
          "data": {
            "text/plain": [
              "(array([-200000.,       0.,  200000.,  400000.,  600000.,  800000.,\n",
              "        1000000.]), <a list of 7 Text major ticklabel objects>)"
            ]
          },
          "metadata": {
            "tags": []
          },
          "execution_count": 72
        },
        {
          "output_type": "display_data",
          "data": {
            "image/png": "[encoded data removed]",
            "text/plain": [
              "<Figure size 432x288 with 1 Axes>"
            ]
          },
          "metadata": {
            "tags": [],
            "needs_background": "light"
          }
        }
      ]
    }
  ]
}